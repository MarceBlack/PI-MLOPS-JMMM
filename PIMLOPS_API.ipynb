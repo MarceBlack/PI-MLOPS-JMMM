{
 "cells": [
  {
   "attachments": {},
   "cell_type": "markdown",
   "metadata": {},
   "source": [
    "# Proyecto Individual #1"
   ]
  },
  {
   "attachments": {},
   "cell_type": "markdown",
   "metadata": {},
   "source": [
    "> DATAFT08 - Jorge Marcelo Mendez"
   ]
  },
  {
   "attachments": {},
   "cell_type": "markdown",
   "metadata": {},
   "source": [
    "### Desarrollo API"
   ]
  },
  {
   "attachments": {},
   "cell_type": "markdown",
   "metadata": {},
   "source": [
    "Importo librerias necesarias, asi como tambien realizo la ingesta de dataframe requerida."
   ]
  },
  {
   "cell_type": "code",
   "execution_count": 17,
   "metadata": {},
   "outputs": [],
   "source": [
    "#Importo librerías\n",
    "from fastapi import FastAPI, HTTPException\n",
    "import pandas as pd\n",
    "from pandasql import sqldf"
   ]
  },
  {
   "cell_type": "code",
   "execution_count": 18,
   "metadata": {},
   "outputs": [],
   "source": [
    "#Cargo el dataset en una variable\n",
    "df = pd.read_csv(\"streaming_completo.csv\")"
   ]
  },
  {
   "cell_type": "code",
   "execution_count": null,
   "metadata": {},
   "outputs": [],
   "source": [
    "#reviso que se haya cargado correctamente:\n",
    "df"
   ]
  },
  {
   "attachments": {},
   "cell_type": "markdown",
   "metadata": {},
   "source": [
    "Ahora bien debo trabajar con los CSV's de la carpeta \"ratings\", ya que de ello debo sacar un valor de puntuacion promedio de cada pelicula por servicio de streaming."
   ]
  },
  {
   "attachments": {},
   "cell_type": "markdown",
   "metadata": {},
   "source": [
    "---"
   ]
  },
  {
   "cell_type": "code",
   "execution_count": 19,
   "metadata": {},
   "outputs": [],
   "source": [
    "# Leer archivos CSV\n",
    "ratings_1_df = pd.read_csv(r\"DATASETS_Henry\\ratings\\1.csv\") \n",
    "ratings_2_df = pd.read_csv(r\"DATASETS_Henry\\ratings\\2.csv\")\n",
    "ratings_3_df = pd.read_csv(r\"DATASETS_Henry\\ratings\\3.csv\")\n",
    "ratings_4_df = pd.read_csv(r\"DATASETS_Henry\\ratings\\4.csv\")\n",
    "ratings_5_df = pd.read_csv(r\"DATASETS_Henry\\ratings\\5.csv\")\n",
    "ratings_6_df = pd.read_csv(r\"DATASETS_Henry\\ratings\\6.csv\")\n",
    "ratings_7_df = pd.read_csv(r\"DATASETS_Henry\\ratings\\7.csv\")\n",
    "ratings_8_df = pd.read_csv(r\"DATASETS_Henry\\ratings\\8.csv\")\n",
    "\n",
    "# Concatenar dataframes\n",
    "ratings_df = pd.concat([ratings_1_df, ratings_2_df, ratings_3_df, ratings_4_df, ratings_5_df, ratings_6_df, ratings_7_df, ratings_8_df])"
   ]
  },
  {
   "cell_type": "code",
   "execution_count": 20,
   "metadata": {},
   "outputs": [],
   "source": [
    "# Calcular promedio de rating por movieId\n",
    "ratings_df = ratings_df.groupby('movieId')['rating'].mean().reset_index()\n",
    "ratings_df['rating'] = ratings_df['rating'].apply(lambda x: round(x, 1))"
   ]
  },
  {
   "cell_type": "code",
   "execution_count": 21,
   "metadata": {},
   "outputs": [],
   "source": [
    "# Eliminar duplicados\n",
    "ratings_df = ratings_df.drop_duplicates(subset='movieId')"
   ]
  },
  {
   "attachments": {},
   "cell_type": "markdown",
   "metadata": {},
   "source": [
    "Para poder relacionar los dataframes, debo realizar 2 acciones, la primera es eliminar la columna de show_id del dataframe de \"df\" y luego debo cambiar el nombre de la columna \"movieId\" por \"id\" y de esta manera hacer el merge de ambos dataframes y obtener uno consolidado con el nombre de \"streaming_ratings_df\"."
   ]
  },
  {
   "cell_type": "code",
   "execution_count": 22,
   "metadata": {},
   "outputs": [],
   "source": [
    "df = df.drop(columns=['show_id'])"
   ]
  },
  {
   "attachments": {},
   "cell_type": "markdown",
   "metadata": {},
   "source": [
    "Reviso mis cambios"
   ]
  },
  {
   "cell_type": "code",
   "execution_count": null,
   "metadata": {},
   "outputs": [],
   "source": [
    "print(df.columns)"
   ]
  },
  {
   "cell_type": "code",
   "execution_count": null,
   "metadata": {},
   "outputs": [],
   "source": [
    "df.head()"
   ]
  },
  {
   "cell_type": "code",
   "execution_count": 23,
   "metadata": {},
   "outputs": [],
   "source": [
    "ratings_df = ratings_df.rename(columns={'movieId': 'id'})"
   ]
  },
  {
   "attachments": {},
   "cell_type": "markdown",
   "metadata": {},
   "source": [
    "Reviso si los cambios fueron realizados en ambas base de datos, para luego hacer el merge y tener un solo dataframe consolidado"
   ]
  },
  {
   "cell_type": "code",
   "execution_count": null,
   "metadata": {},
   "outputs": [],
   "source": [
    "print(ratings_df.columns)"
   ]
  },
  {
   "cell_type": "code",
   "execution_count": null,
   "metadata": {},
   "outputs": [],
   "source": [
    "ratings_df.head()"
   ]
  },
  {
   "cell_type": "code",
   "execution_count": 24,
   "metadata": {},
   "outputs": [],
   "source": [
    "# Unir dataframes\n",
    "streaming_ratings_df = pd.merge(df, ratings_df, on='id')"
   ]
  },
  {
   "cell_type": "code",
   "execution_count": 25,
   "metadata": {},
   "outputs": [
    {
     "name": "stdout",
     "output_type": "stream",
     "text": [
      "Index(['type', 'title', 'director', 'cast', 'country', 'date_added',\n",
      "       'release_year', 'rating_x', 'duration', 'listed_in', 'description',\n",
      "       'platform', 'id', 'duration_int', 'duration_type', 'rating_y'],\n",
      "      dtype='object')\n"
     ]
    }
   ],
   "source": [
    "print(streaming_ratings_df.columns)"
   ]
  },
  {
   "cell_type": "code",
   "execution_count": 26,
   "metadata": {},
   "outputs": [],
   "source": [
    "streaming_ratings_df = streaming_ratings_df.rename(columns={'rating_x': 'rating'})\n",
    "streaming_ratings_df = streaming_ratings_df.rename(columns={'rating_y': 'scored'})\n",
    "streaming_ratings_df = streaming_ratings_df.rename(columns={'release_year': 'year'})"
   ]
  },
  {
   "cell_type": "code",
   "execution_count": null,
   "metadata": {},
   "outputs": [],
   "source": [
    "print(streaming_ratings_df.columns)"
   ]
  },
  {
   "cell_type": "code",
   "execution_count": null,
   "metadata": {},
   "outputs": [],
   "source": [
    "streaming_ratings_df"
   ]
  },
  {
   "cell_type": "code",
   "execution_count": 27,
   "metadata": {},
   "outputs": [],
   "source": [
    "#exporto el archivo a un csv nuevo:\n",
    "streaming_ratings_df.to_csv(\"streaming_ratings.csv\", index=False)"
   ]
  },
  {
   "attachments": {},
   "cell_type": "markdown",
   "metadata": {},
   "source": [
    "HASTA ESTA ETAPA O PUNTO todas las pruebas han sido en mi entorno local "
   ]
  },
  {
   "attachments": {},
   "cell_type": "markdown",
   "metadata": {},
   "source": [
    "---"
   ]
  },
  {
   "attachments": {},
   "cell_type": "markdown",
   "metadata": {},
   "source": [
    "Ahora, procedemos a cumplir con cada paso requerido en esta etapa de Desarrollo API"
   ]
  },
  {
   "attachments": {},
   "cell_type": "markdown",
   "metadata": {},
   "source": [
    "### PRIMERA CONSULTA"
   ]
  },
  {
   "attachments": {},
   "cell_type": "markdown",
   "metadata": {},
   "source": [
    "Película con mayor duración con filtros opcionales de AÑO, PLATAFORMA Y TIPO DE DURACIÓN. (la función debe llamarse get_max_duration(year, platform, duration_type))"
   ]
  },
  {
   "cell_type": "code",
   "execution_count": null,
   "metadata": {},
   "outputs": [],
   "source": [
    "print(streaming_ratings_df.columns)"
   ]
  },
  {
   "cell_type": "code",
   "execution_count": null,
   "metadata": {},
   "outputs": [],
   "source": [
    "streaming_ratings_df"
   ]
  },
  {
   "cell_type": "code",
   "execution_count": 38,
   "metadata": {},
   "outputs": [],
   "source": [
    "from fastapi import FastAPI\n",
    "import pandas as pd\n",
    "\n",
    "app = FastAPI()\n",
    "\n",
    "# Leer el archivo CSV con los datos de películas y series en streaming\n",
    "streaming_ratings_df = pd.read_csv(\"streaming_ratings.csv\")\n",
    "\n",
    "@app.get(\"/max_duration\")\n",
    "async def get_max_duration(year: int = None, platform: str = None, duration_type: str = None):\n",
    "    \"\"\"\n",
    "    Película con mayor duración con filtros opcionales de AÑO, PLATAFORMA Y TIPO DE DURACIÓN\n",
    "    \"\"\"\n",
    "    # Crear una copia del dataframe para no modificar el original\n",
    "    df_filtered = streaming_ratings_df.copy()\n",
    "    \n",
    "    # Filtrar por año\n",
    "    if year is not None:\n",
    "        df_filtered = df_filtered[df_filtered[\"year\"] == year]\n",
    "    else:\n",
    "        return \"Debes ingresar un año.\"\n",
    "        \n",
    "    # Filtrar por plataforma\n",
    "    if platform is not None:\n",
    "        df_filtered = df_filtered[df_filtered[\"platform\"] == platform.lower()]\n",
    "    else:\n",
    "        return \"Debes ingresar una plataforma.\"\n",
    " \n",
    "    # Filtrar por tipo de duración\n",
    "    if duration_type is not None:\n",
    "        if duration_type.lower() == \"min\":\n",
    "            df_filtered = df_filtered[df_filtered[\"duration_min\"].notnull()]\n",
    "            max_duration_col = \"duration_min\"\n",
    "        elif duration_type.lower() == \"season\":\n",
    "            df_filtered = df_filtered[df_filtered[\"duration_seasons\"].notnull()]\n",
    "            max_duration_col = \"duration_seasons\"\n",
    "        else:\n",
    "            return \"Tipo de duración inválido.\"\n",
    "    else:\n",
    "        # Si no se especifica, se usa la duración más larga (entre minutos y temporadas)\n",
    "        df_filtered = df_filtered[df_filtered[\"duration_min\"].notnull() | df_filtered[\"duration_seasons\"].notnull()]\n",
    "        max_duration_col = \"duration_min\" if df_filtered[\"duration_min\"].max() > df_filtered[\"duration_seasons\"].max() else \"duration_seasons\"\n",
    "    \n",
    "    # Encontrar la película con la duración máxima\n",
    "    max_duration_idx = df_filtered[max_duration_col].idxmax()\n",
    "    max_duration_movie = df_filtered.loc[max_duration_idx, :]\n",
    "    \n",
    "    return f'La película con mayor duración de \"{max_duration_movie[\"platform\"]}\" es \"{max_duration_movie[\"title\"]}\" con {max_duration_movie[max_duration_col]} {duration_type or \"minutos/temporadas\"}.'"
   ]
  },
  {
   "attachments": {},
   "cell_type": "markdown",
   "metadata": {},
   "source": [
    "Reviso con un ejemplo:"
   ]
  },
  {
   "cell_type": "code",
   "execution_count": 39,
   "metadata": {},
   "outputs": [
    {
     "data": {
      "text/plain": [
       "<coroutine object get_max_duration at 0x000002CE0D6C10E0>"
      ]
     },
     "execution_count": 39,
     "metadata": {},
     "output_type": "execute_result"
    }
   ],
   "source": [
    "get_max_duration(year=2010, platform='netflix', duration_type='season')"
   ]
  },
  {
   "attachments": {},
   "cell_type": "markdown",
   "metadata": {},
   "source": [
    "### SEGUNDA CONSULTA"
   ]
  },
  {
   "attachments": {},
   "cell_type": "markdown",
   "metadata": {},
   "source": [
    "Cantidad de películas por plataforma con un puntaje mayor a XX en determinado año (la función debe llamarse get_score_count(platform, scored, year))"
   ]
  },
  {
   "attachments": {},
   "cell_type": "markdown",
   "metadata": {},
   "source": [
    "Primero debo generar un archivo completo, que incluya los scores promedio"
   ]
  },
  {
   "cell_type": "code",
   "execution_count": 213,
   "metadata": {},
   "outputs": [
    {
     "name": "stdout",
     "output_type": "stream",
     "text": [
      "Index(['type', 'title', 'director', 'cast', 'country', 'date_added', 'year',\n",
      "       'rating', 'duration', 'listed_in', 'description', 'platform', 'id',\n",
      "       'duration_int', 'duration_type', 'scored'],\n",
      "      dtype='object')\n"
     ]
    }
   ],
   "source": [
    "print(streaming_ratings_df.columns)"
   ]
  },
  {
   "cell_type": "code",
   "execution_count": 32,
   "metadata": {},
   "outputs": [],
   "source": [
    "@app.get('/score_count/')\n",
    "def get_score_count(platform: str, scored: float, year: int = None):\n",
    "    # Filtrar los datos según los valores de los parámetros\n",
    "    filtered = streaming_ratings_df.copy()\n",
    "    filtered = filtered[filtered['platform'] == platform]\n",
    "    if year is not None:\n",
    "        filtered = filtered[filtered['year'] == year]\n",
    "    \n",
    "    # Contar la cantidad de películas por plataforma y devolver los resultados\n",
    "    count = len(filtered[filtered['scored'] > scored])\n",
    "    return {'count': count}"
   ]
  },
  {
   "cell_type": "code",
   "execution_count": 33,
   "metadata": {},
   "outputs": [
    {
     "data": {
      "text/plain": [
       "{'count': 152}"
      ]
     },
     "execution_count": 33,
     "metadata": {},
     "output_type": "execute_result"
    }
   ],
   "source": [
    "#Reviso que la consulta funcione, con parametros de ejemplo:\n",
    "get_score_count(platform='netflix',scored=3 , year=2009)"
   ]
  },
  {
   "attachments": {},
   "cell_type": "markdown",
   "metadata": {},
   "source": [
    "### TERCERA CONSULTA"
   ]
  },
  {
   "attachments": {},
   "cell_type": "markdown",
   "metadata": {},
   "source": [
    "Cantidad de películas por plataforma con filtro de PLATAFORMA. (La función debe llamarse get_count_platform(platform))"
   ]
  },
  {
   "cell_type": "code",
   "execution_count": 245,
   "metadata": {},
   "outputs": [
    {
     "name": "stdout",
     "output_type": "stream",
     "text": [
      "Index(['type', 'title', 'director', 'cast', 'country', 'date_added', 'year',\n",
      "       'rating', 'duration', 'listed_in', 'description', 'platform', 'id',\n",
      "       'duration_int', 'duration_type', 'scored'],\n",
      "      dtype='object')\n"
     ]
    }
   ],
   "source": [
    "print(streaming_ratings_df.columns)"
   ]
  },
  {
   "cell_type": "code",
   "execution_count": 34,
   "metadata": {},
   "outputs": [],
   "source": [
    "# Consulta 3: Cantidad de películas por plataforma y filtrar los resultados según la plataforma indicada\n",
    "@app.get('/count_platform/')\n",
    "def get_count_platform(platform: str):\n",
    "    count = len(streaming_ratings_df[streaming_ratings_df['platform'] == platform])\n",
    "    return {'count': count}"
   ]
  },
  {
   "cell_type": "code",
   "execution_count": 35,
   "metadata": {},
   "outputs": [
    {
     "data": {
      "text/plain": [
       "{'count': 8807}"
      ]
     },
     "execution_count": 35,
     "metadata": {},
     "output_type": "execute_result"
    }
   ],
   "source": [
    "#Reviso que la consulta funcione, con parametros de ejemplo:\n",
    "get_count_platform(platform='netflix')"
   ]
  },
  {
   "attachments": {},
   "cell_type": "markdown",
   "metadata": {},
   "source": [
    "### CUARTA CONSULTA"
   ]
  },
  {
   "attachments": {},
   "cell_type": "markdown",
   "metadata": {},
   "source": [
    "Actor que más se repite según plataforma y año. (La función debe llamarse get_actor(platform, year))"
   ]
  },
  {
   "cell_type": "code",
   "execution_count": 248,
   "metadata": {},
   "outputs": [
    {
     "name": "stdout",
     "output_type": "stream",
     "text": [
      "Index(['type', 'title', 'director', 'cast', 'country', 'date_added', 'year',\n",
      "       'rating', 'duration', 'listed_in', 'description', 'platform', 'id',\n",
      "       'duration_int', 'duration_type', 'scored'],\n",
      "      dtype='object')\n"
     ]
    }
   ],
   "source": [
    "print(streaming_ratings_df.columns)"
   ]
  },
  {
   "cell_type": "code",
   "execution_count": 36,
   "metadata": {},
   "outputs": [],
   "source": [
    "@app.get('/actor/')\n",
    "def get_actor(platform, year):\n",
    "    # Filtrar por plataforma y año\n",
    "    df_filtered = streaming_ratings_df[(streaming_ratings_df['platform'] == platform) & (streaming_ratings_df['year'] == year)]\n",
    "    # Concatenar los valores de la columna \"cast\"\n",
    "    cast_values = df_filtered['cast'].str.cat(sep=',').split(',')\n",
    "    # Contar la frecuencia de cada actor\n",
    "    actor_count = pd.Series(cast_values).value_counts()\n",
    "    # Obtener el actor con mayor frecuencia\n",
    "    most_common_actor = actor_count.idxmax()\n",
    "    return most_common_actor"
   ]
  },
  {
   "cell_type": "code",
   "execution_count": 37,
   "metadata": {},
   "outputs": [
    {
     "data": {
      "text/plain": [
       "''"
      ]
     },
     "execution_count": 37,
     "metadata": {},
     "output_type": "execute_result"
    }
   ],
   "source": [
    "#Reviso que la consulta funcione, con parametros de ejemplo:\n",
    "get_actor(platform='netflix', year='2009')"
   ]
  }
 ],
 "metadata": {
  "kernelspec": {
   "display_name": "Python 3",
   "language": "python",
   "name": "python3"
  },
  "language_info": {
   "codemirror_mode": {
    "name": "ipython",
    "version": 3
   },
   "file_extension": ".py",
   "mimetype": "text/x-python",
   "name": "python",
   "nbconvert_exporter": "python",
   "pygments_lexer": "ipython3",
   "version": "3.11.1"
  },
  "orig_nbformat": 4
 },
 "nbformat": 4,
 "nbformat_minor": 2
}
